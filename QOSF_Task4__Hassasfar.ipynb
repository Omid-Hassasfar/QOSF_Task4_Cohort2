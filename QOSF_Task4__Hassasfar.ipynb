{
 "cells": [
  {
   "cell_type": "markdown",
   "metadata": {},
   "source": [
    "# Assignment: QC Mentorship program -   2nd Cohort-   Task 4\n",
    "\n",
    "### Omid Hassasfar\n",
    "Omid.Hassasfar@gmail.com"
   ]
  },
  {
   "cell_type": "code",
   "execution_count": 1,
   "metadata": {},
   "outputs": [],
   "source": [
    "from qiskit import *\n",
    "from qutip import *\n",
    "import numpy as np\n",
    "from random import random\n",
    "from scipy.optimize import minimize\n",
    "from qiskit.circuit.library.standard_gates import U2Gate\n",
    "from qiskit.visualization import *\n",
    "import matplotlib.pyplot as plt"
   ]
  },
  {
   "cell_type": "code",
   "execution_count": 2,
   "metadata": {},
   "outputs": [
    {
     "data": {
      "text/plain": [
       "array([[ 1,  0,  0,  0],\n",
       "       [ 0,  0, -1,  0],\n",
       "       [ 0, -1,  0,  0],\n",
       "       [ 0,  0,  0,  1]])"
      ]
     },
     "execution_count": 2,
     "metadata": {},
     "output_type": "execute_result"
    }
   ],
   "source": [
    "# M is Hamiltonian that we want to find the minimum eigenvalue\n",
    "\n",
    "M=np.array([[1,0,0,0],[0,0,-1,0],[0,-1,0,0],[0,0,0,1]])  \n",
    "\n",
    "M      # I choose M (not H) for our Hamiltonian because of confusion with Hadamard gate, since H stands for Hadamard gate"
   ]
  },
  {
   "cell_type": "code",
   "execution_count": 3,
   "metadata": {},
   "outputs": [
    {
     "data": {
      "text/latex": [
       "Quantum object: dims = [[4], [4]], shape = (4, 4), type = oper, isherm = True\\begin{equation*}\\left(\\begin{array}{*{11}c}1.0 & 0.0 & 0.0 & 0.0\\\\0.0 & 0.0 & -1.0 & 0.0\\\\0.0 & -1.0 & 0.0 & 0.0\\\\0.0 & 0.0 & 0.0 & 1.0\\\\\\end{array}\\right)\\end{equation*}"
      ],
      "text/plain": [
       "Quantum object: dims = [[4], [4]], shape = (4, 4), type = oper, isherm = True\n",
       "Qobj data =\n",
       "[[ 1.  0.  0.  0.]\n",
       " [ 0.  0. -1.  0.]\n",
       " [ 0. -1.  0.  0.]\n",
       " [ 0.  0.  0.  1.]]"
      ]
     },
     "execution_count": 3,
     "metadata": {},
     "output_type": "execute_result"
    }
   ],
   "source": [
    "# We can use Qobj from QuTiP instead of array to show our hamiltonian in a better way\n",
    "\n",
    "M=Qobj([[1,0,0,0],[0,0,-1,0],[0,-1,0,0],[0,0,0,1]])  \n",
    "M"
   ]
  },
  {
   "cell_type": "code",
   "execution_count": 92,
   "metadata": {},
   "outputs": [
    {
     "name": "stdout",
     "output_type": "stream",
     "text": [
      "eigenvalues:  [-1.  1.  1.  1.] and corresponding\n",
      " eigenvectors\n",
      " [[-0.        -0.j  0.        +0.j  1.        +0.j  0.        +0.j]\n",
      " [-0.70710678-0.j -0.70710678+0.j  0.        +0.j  0.        +0.j]\n",
      " [-0.70710678-0.j  0.70710678+0.j  0.        +0.j  0.        +0.j]\n",
      " [-0.        -0.j  0.        +0.j  0.        +0.j  1.        +0.j]]\n",
      "\n",
      "Minimum eigenvalue =  -1.0\n"
     ]
    }
   ],
   "source": [
    "# We can directly solve this eigenvalue problem via the function \" linalg.eig \" and find exact Eigenvectors and Eigenvalues\n",
    "# from classical eigen solver\n",
    "\n",
    "eigenvalues, eigenvectors = np.linalg.eigh(M)\n",
    "print('eigenvalues: ', eigenvalues, 'and corresponding' '\\n eigenvectors\\n',eigenvectors)\n",
    "print()\n",
    "print('Minimum eigenvalue = ', min(eigenvalues))"
   ]
  },
  {
   "cell_type": "markdown",
   "metadata": {},
   "source": [
    "So the minimum Eigenvalue or in other words **Ground state** energy of this Hamiltonian is **-1**. Since this Hamiltonian was very simple we solved it in a very simple line but now we want to solve this problem with **VQE** (*Variational Quantum Eigensolver*)"
   ]
  },
  {
   "cell_type": "markdown",
   "metadata": {},
   "source": [
    "First of all we should write our hamiltonian in terms of products of four Pauli-matrices. Since our Hamiltonian matrix is $ 4*4$ (2-qubit Hamiltonian), generally we have 16 terms and each term has a coefficient. one can find these coefficient using this formula as a Decomposing Two-Qubit Hamiltonians into a sum of tensor products of **Pauli-Matrices** weighted by constant coefficients."
   ]
  },
  {
   "cell_type": "markdown",
   "metadata": {},
   "source": [
    "\\begin{array}{l}\n",
    "M = \\sum\\limits_{i,j = 1,x,y,z} {{a_{i,j}}({\\sigma _i} \\otimes {\\sigma _j})} \\;\\;\\,\\,,\\,\\,\\,\\,\\,\\,{a_{i,j}}\\, = \\frac{1}{4}tr\\,[({\\sigma _i} \\otimes {\\sigma _j})M]\\\\\n",
    "\\\\\n",
    "{\\sigma _1} = \\left( {\\begin{array}{*{20}{c}}\n",
    "1&0\\\\\n",
    "0&1\n",
    "\\end{array}} \\right)\\,\\,\\,\\,,\\,\\,\\,{\\sigma _x} = \\left( {\\begin{array}{*{20}{c}}\n",
    "0&1\\\\\n",
    "1&0\n",
    "\\end{array}} \\right)\\,\\,\\,\\,,\\,\\,\\,{\\sigma _y} = \\left( {\\begin{array}{*{20}{c}}\n",
    "0&{ - i}\\\\\n",
    "i&0\n",
    "\\end{array}} \\right)\\,\\,\\,\\,,\\,\\,\\,{\\sigma _z} = \\left( {\\begin{array}{*{20}{c}}\n",
    "1&0\\\\\n",
    "0&{ - 1}\n",
    "\\end{array}} \\right)\n",
    "\\end{array}"
   ]
  },
  {
   "cell_type": "markdown",
   "metadata": {},
   "source": [
    "After calculation we can easily find that the coefficient of all terms are zero exept terms consisting of the same matrices.\n",
    "and just 4 terms left. \n",
    "$ZZ & XX & YY & II$"
   ]
  },
  {
   "cell_type": "markdown",
   "metadata": {},
   "source": [
    "So as a result Hamilton is written like this:\n",
    "$\n",
    "\\begin{align}\n",
    "M = \\frac{1}{2}\\left( I \\otimes I-X \\otimes X- Y \\otimes Y+ Z \\otimes Z\\right)\n",
    "\\end{align}\n",
    "$"
   ]
  },
  {
   "cell_type": "code",
   "execution_count": 4,
   "metadata": {},
   "outputs": [],
   "source": [
    "# Define the Pauli matrices \n",
    "\n",
    "I = np.array([[1,0],[0,1]])\n",
    "X = np.array([[0,1],[1,0]])\n",
    "Y = np.array([[0,0-1j],[0+1j,0]])\n",
    "Z = np.array([[1,0],[0,-1]])"
   ]
  },
  {
   "cell_type": "code",
   "execution_count": 5,
   "metadata": {},
   "outputs": [],
   "source": [
    "# Compute the tensor product of the Pauli matrices\n",
    "\n",
    "XX = np.kron(X,X)\n",
    "YY = np.kron(Y,Y)\n",
    "ZZ = np.kron(Z,Z)\n",
    "II = np.kron(I,I)"
   ]
  },
  {
   "cell_type": "code",
   "execution_count": 95,
   "metadata": {},
   "outputs": [
    {
     "data": {
      "text/plain": [
       "array([[ 1.+0.j,  0.+0.j,  0.+0.j,  0.+0.j],\n",
       "       [ 0.+0.j,  0.+0.j, -1.+0.j,  0.+0.j],\n",
       "       [ 0.+0.j, -1.+0.j,  0.+0.j,  0.+0.j],\n",
       "       [ 0.+0.j,  0.+0.j,  0.+0.j,  1.+0.j]])"
      ]
     },
     "execution_count": 95,
     "metadata": {},
     "output_type": "execute_result"
    }
   ],
   "source": [
    "# This is the decomposition of the \"M\" matrix (Hamiltonian) \n",
    "M= (II-XX-YY+ZZ)/2\n",
    "M"
   ]
  },
  {
   "cell_type": "code",
   "execution_count": 6,
   "metadata": {},
   "outputs": [
    {
     "data": {
      "text/latex": [
       "Quantum object: dims = [[4], [4]], shape = (4, 4), type = oper, isherm = True\\begin{equation*}\\left(\\begin{array}{*{11}c}1.0 & 0.0 & 0.0 & 0.0\\\\0.0 & 0.0 & -1.0 & 0.0\\\\0.0 & -1.0 & 0.0 & 0.0\\\\0.0 & 0.0 & 0.0 & 1.0\\\\\\end{array}\\right)\\end{equation*}"
      ],
      "text/plain": [
       "Quantum object: dims = [[4], [4]], shape = (4, 4), type = oper, isherm = True\n",
       "Qobj data =\n",
       "[[ 1.  0.  0.  0.]\n",
       " [ 0.  0. -1.  0.]\n",
       " [ 0. -1.  0.  0.]\n",
       " [ 0.  0.  0.  1.]]"
      ]
     },
     "execution_count": 6,
     "metadata": {},
     "output_type": "execute_result"
    }
   ],
   "source": [
    "Qobj(M)\n",
    "# So you can see this decomposition as a 4 terms of products of pauli matrices is exatly our hamiltonian matrix"
   ]
  },
  {
   "cell_type": "markdown",
   "metadata": {},
   "source": [
    "# Expectation value of two-qubit operatorse\n",
    "we have 4 terms in Hamiltonian and the expectation value of Hamiltonian is the sum of expectation value of all of them seperately.\n",
    "Since We are only able to perform measurment in Z basis, we can measure $ZZ$ easily and the $II$ term just left a constant but for $XX$ and $YY$ terms we should apply a transformation according to these equations :\n",
    "\n",
    "in the **computational basis** \n",
    "> Remember that, given a general qubit state $|\\psi\\rangle=\\alpha |0\\rangle + \\beta |1\\rangle$, it holds $\\langle Z \\rangle = \\langle \\psi | Z | \\psi \\rangle = |\\alpha|^2-|\\beta|^2$.and we know  the operator $Z_1 Z_2$ acts like: \n",
    "$$\n",
    "Z_1 Z_2|00\\rangle = +1 |00\\rangle \\\\\n",
    "Z_1 Z_2|11\\rangle = +1 |11\\rangle \\\\\n",
    "Z_1 Z_2|01\\rangle = -1 |01\\rangle \\\\\n",
    "Z_1 Z_2|10\\rangle = -1 |10\\rangle \\\\\n",
    "$$\n",
    "\n",
    "### Change of basis\n",
    "\n",
    "\\\\begin{array}{l}\n",
    "\\left\\langle \\Psi  \\right.\\left| {XX} \\right.\\left| \\Psi  \\right\\rangle  = \\left\\langle {\\Psi \\left| {{U^\\dagger }} \\right.U} \\right.\\left. {\\left| X \\right.X} \\right|{U^\\dagger }U\\left| \\Psi  \\right\\rangle  = \\left\\langle {\\Psi \\left| {{U^\\dagger }} \\right.} \\right.\\left. {\\left| Z \\right.Z} \\right|U\\left| \\Psi  \\right\\rangle  = \\left\\langle {{\\Phi _1}} \\right.\\left| {YY} \\right.\\left| {{\\Phi _1}} \\right\\rangle \\\\\n",
    "\\left| {{\\Phi _1}} \\right\\rangle  = {U_1}\\left| \\Psi  \\right\\rangle \\\\\n",
    "\\\\\n",
    "\\left\\langle \\Psi  \\right.\\left| {YY} \\right.\\left| \\Psi  \\right\\rangle  = \\left\\langle {\\Psi \\left| {{U^\\dagger }} \\right.U\\left| Y \\right.} \\right.\\left. Y \\right|{U^\\dagger }U\\left| \\Psi  \\right\\rangle  = \\left\\langle {\\Psi \\left| {{U^\\dagger }} \\right.} \\right.\\left. {\\left| Z \\right.Z} \\right|U\\left| \\Psi  \\right\\rangle  = \\left\\langle {{\\Phi _2}} \\right.\\left| {YY} \\right.\\left| {{\\Phi _2}} \\right\\rangle \\\\\n",
    "\\left| {{\\Phi _2}} \\right\\rangle  = {U_2}\\left| \\Psi  \\right\\rangle \n",
    "\\end{array}\n",
    "\n",
    "We know : $$\n",
    "X=HZH\\quad \\,\\,\\,\\,\\,\\   Y=(HS^\\dagger)^\\dagger Z(HS^\\dagger)\n",
    "$$\n",
    "\n",
    "\n",
    "for **XX** term we can use the famous Hadamard gate (tensor product) $U_1=H$ and $U_2=H$ \n",
    "and for **YY** case we can use  $U_2=HS^\\dagger$\n",
    "\n",
    "Note that for tensor products of operators like $XX$  Pauli term (actually $XX= X \\otimes X$) .\n",
    "\n",
    "\n",
    "$\n",
    "S^\\dagger = \\begin{bmatrix}\n",
    "1 & 0 \\\\\n",
    "0 & -i\n",
    "\\end{bmatrix}.\n",
    "$  ,                 $\n",
    "H =\\frac{1}{{\\sqrt 2 }}  \\begin{bmatrix}\n",
    "1 & 1 \\\\\n",
    "1 & -1\n",
    "\\end{bmatrix}.\n",
    "$\n",
    "\n",
    "$$U_1 \\otimes U_2 \\left| \\psi_1 \\right\\rangle \\otimes \\left| \\psi_2 \\right\\rangle =  U_1 \\left| \\psi_1 \\right\\rangle \\otimes U_2 \\left| \\psi_2 \\right\\rangle,$$\n",
    "\n",
    "were $U_1$ and $U_2$ are some unitary operators acting on two qubits with separate $\\left| \\psi_1 \\right\\rangle$ and $\\left| \\psi_2 \\right\\rangle$ wavefunctions. \n"
   ]
  },
  {
   "cell_type": "markdown",
   "metadata": {},
   "source": [
    "finally to determine the expectation value on our trial states, we seek to decompose all 2-qubit operators into the form\n",
    "\n",
    "$\n",
    "O = U^{\\dagger} \\left( Z_1 \\otimes Z_2 \\right) U,\n",
    "$\n",
    "\n",
    "where $U$ is a unitary matrix specific to $O$. For our purposes, the following decompositions are relevant\n",
    "\n",
    "\n",
    "$\n",
    "\\begin{align}\n",
    "X \\otimes X &= \\left(H_1 \\otimes H_2 \\right)^\\dagger Z_1 \\otimes Z_2  \\left(H_1 \\otimes H_2 \\right), \\\\\n",
    "Y \\otimes Y &= \\left(H_1 S_1^\\dagger \\otimes H_2 S_2^\\dagger \\right)^\\dagger Z_1 \\otimes Z_2  \\left(H_1 S_1^\\dagger \\otimes H_2 S_2^\\dagger \\right),\n",
    "\\end{align}\n",
    "$"
   ]
  },
  {
   "cell_type": "markdown",
   "metadata": {},
   "source": [
    "$\n",
    "\\begin{align}  \n",
    "\\left| \\phi_1 \\right> &=  \\left(H \\otimes H \\right) \\left|\\psi \\right>, \\\\  \n",
    "\\left| \\phi_2 \\right> &= \\left(H_1 S_1^\\dagger \\otimes H_2 S_2^\\dagger \\right) \\left|\\psi \\right>,  \n",
    "\\end{align}  \n",
    "$"
   ]
  },
  {
   "cell_type": "markdown",
   "metadata": {},
   "source": [
    ">An altarnative way to apply unitary transformation is to use default $u_2$ gates in **Qiskit** where\n",
    "\n",
    "\\begin{array}{l}\n",
    "{u_2}(\\varphi ,\\lambda ) = \\frac{1}{{\\sqrt 2 }}\\left( {\\begin{array}{*{20}{c}}\n",
    "1&{ - {e^{i\\lambda }}}\\\\\n",
    "{{e^{i\\varphi }}}&{{e^{i(\\varphi  + \\lambda )}}}\n",
    "\\end{array}} \\right)\\,\\\\\n",
    "{u_2}(0,\\pi ) = \\,\\frac{1}{{\\sqrt 2 }}\\left( {\\begin{array}{*{20}{c}}\n",
    "1&1\\\\\n",
    "1&{ - 1}\n",
    "\\end{array}} \\right)\\, = H\\\\\n",
    "{u_2}(0,\\frac{\\pi }{2}) = \\,\\frac{1}{{\\sqrt 2 }}\\left( {\\begin{array}{*{20}{c}}\n",
    "1&{ - i}\\\\\n",
    "1&i\n",
    "\\end{array}} \\right)\\, = H{S^\\dagger }\\,\n",
    "\\end{array}"
   ]
  },
  {
   "cell_type": "markdown",
   "metadata": {},
   "source": [
    "# Variational wave function Anzatz state\n",
    "\n",
    "Now that we know how to compute the expectation value of our matrix $M$ we need a trial wavefunction. As per the hint, we will use the state given by\n",
    "\n",
    "$\n",
    "\\begin{align}\n",
    "\\left| \\psi (\\theta)\\right> = (R_X(\\theta) \\otimes I)(CX)(H \\otimes I) \\left| 00 \\right>.\n",
    "\\end{align}\n",
    "$\n",
    "\n",
    "We produce a simple visualization of this state below"
   ]
  },
  {
   "cell_type": "code",
   "execution_count": 7,
   "metadata": {},
   "outputs": [
    {
     "data": {
      "text/html": [
       "<pre style=\"word-wrap: normal;white-space: pre;background: #fff0;line-height: 1.1;font-family: &quot;Courier New&quot;,Courier,monospace\">      ┌───┐     ┌────────┐ ░ \n",
       "q0_0: ┤ H ├──■──┤ RX(pi) ├─░─\n",
       "      ├───┤┌─┴─┐└─┬───┬──┘ ░ \n",
       "q0_1: ┤ I ├┤ X ├──┤ I ├────░─\n",
       "      └───┘└───┘  └───┘    ░ \n",
       "c0: 2/═══════════════════════\n",
       "                             </pre>"
      ],
      "text/plain": [
       "      ┌───┐     ┌────────┐ ░ \n",
       "q0_0: ┤ H ├──■──┤ RX(pi) ├─░─\n",
       "      ├───┤┌─┴─┐└─┬───┬──┘ ░ \n",
       "q0_1: ┤ I ├┤ X ├──┤ I ├────░─\n",
       "      └───┘└───┘  └───┘    ░ \n",
       "c0: 2/═══════════════════════\n",
       "                             "
      ]
     },
     "execution_count": 7,
     "metadata": {},
     "output_type": "execute_result"
    }
   ],
   "source": [
    "# Visualize Ansatz-circuit\n",
    "theta=np.pi\n",
    "q = QuantumRegister(2)\n",
    "c = ClassicalRegister(2)\n",
    "circuit = QuantumCircuit(q,c)\n",
    "circuit.h(q[0])\n",
    "circuit.id(q[1])\n",
    "circuit.cx(q[0],q[1])\n",
    "circuit.rx(theta,q[0])\n",
    "circuit.id(q[1])\n",
    "circuit.barrier()\n",
    "circuit.draw()"
   ]
  },
  {
   "cell_type": "code",
   "execution_count": 8,
   "metadata": {},
   "outputs": [
    {
     "data": {
      "image/png": "[encoded data removed]",
      "text/plain": [
       "<Figure size 394.413x204.68 with 1 Axes>"
      ]
     },
     "execution_count": 8,
     "metadata": {},
     "output_type": "execute_result"
    }
   ],
   "source": [
    "# another way to show circuit :) \n",
    "circuit.draw(output='mpl')"
   ]
  },
  {
   "cell_type": "code",
   "execution_count": 9,
   "metadata": {},
   "outputs": [],
   "source": [
    "def anzatz(circuit,q,c,theta):\n",
    "    '''\n",
    "    The Anzatz wave function\n",
    "    |psi > = (Rx(theta) I)(CX)(H I)|00>\n",
    "    '''\n",
    "    circuit.h(q[0])\n",
    "    circuit.id(q[1])\n",
    "    circuit.cx(q[0],q[1])\n",
    "    circuit.rx(theta,q[0])\n",
    "    circuit.id(q[1])\n",
    "    circuit.barrier()    \n",
    "    \n",
    "    return circuit\n",
    "\n",
    "def measure_ZZ(circuit,N_shots=2**10,simulator_backend='qasm_simulator'):\n",
    "    '''\n",
    "    Measures the expectation value of ZZ on the 2-qubit states\n",
    "    \n",
    "    <ZZ> = the number of ( 00 )  and (11) states, minus the number of (01) and (10) states\n",
    "    normalized over the number of trials\n",
    "    '''\n",
    "    simulator = Aer.get_backend(simulator_backend)\n",
    "    result = execute(circuit,backend=simulator,shots=N_shots).result()\n",
    "\n",
    "    items =result.get_counts().items()\n",
    "    \n",
    "    s = 0\n",
    "    for key, counts in items:\n",
    "        s+= (-1)**(int(key[0])+int(key[1]))*counts\n",
    "    \n",
    "    s = s/N_shots\n",
    "        \n",
    "    return s\n",
    "\n",
    "def hamiltonian(theta,N_shots=2**10):\n",
    "    '''\n",
    "    The hamiltonian for the problem that corresponds \n",
    "    to our matrix M:\n",
    "    \n",
    "    M = (1/2)*(II-XX-YY+ZZ)\n",
    "    \n",
    "    The hamiltonian is computed by separating it into three components\n",
    "    according to the discussions in the previous cells. \n",
    "    '''\n",
    "    \n",
    "    q = QuantumRegister(2)\n",
    "    c = ClassicalRegister(2)\n",
    "    \n",
    "    ## 0.5*XX component\n",
    "    circuit_xx = QuantumCircuit(q,c)\n",
    "    circuit_xx = anzatz(circuit_xx,q,c,theta)\n",
    "    circuit_xx.h(q[0])\n",
    "    circuit_xx.h(q[1])\n",
    "    circuit_xx.measure(q,c)\n",
    "    E_XX = -0.5*measure_ZZ(circuit_xx,N_shots=N_shots)\n",
    "    \n",
    "    ## 0.5*YY component\n",
    "    circuit_yy = QuantumCircuit(q,c)\n",
    "    circuit_yy = anzatz(circuit_yy,q,c,theta)\n",
    "    circuit_yy.sdg(q[0])\n",
    "    circuit_yy.h(q[0])\n",
    "    circuit_yy.sdg(q[1])\n",
    "    circuit_yy.h(q[1])    \n",
    "    circuit_yy.measure(q,c)\n",
    "    E_YY= -0.5*measure_ZZ(circuit_yy,N_shots=N_shots)\n",
    "    \n",
    "    \n",
    "    # 0.5*ZZ component\n",
    "    circuit_zz = QuantumCircuit(q,c)\n",
    "    circuit_zz = anzatz(circuit_zz,q,c,theta)\n",
    "    circuit_zz.measure(q,c)\n",
    "    E_ZZ = 0.5*measure_ZZ(circuit_zz,N_shots=N_shots)\n",
    "    \n",
    "    # Note, the +1/2 comes from the fact that <psi|II|psi> = 1\n",
    "    # it is always a constant\n",
    "    \n",
    "    return (E_XX+E_YY+E_ZZ+0.5)"
   ]
  },
  {
   "cell_type": "markdown",
   "metadata": {},
   "source": [
    "#### Circuit for ZZ measurement with initial parameters"
   ]
  },
  {
   "cell_type": "code",
   "execution_count": 10,
   "metadata": {},
   "outputs": [
    {
     "data": {
      "image/png": "[encoded data removed]",
      "text/plain": [
       "<Figure size 514.958x204.68 with 1 Axes>"
      ]
     },
     "execution_count": 10,
     "metadata": {},
     "output_type": "execute_result"
    }
   ],
   "source": [
    "# Visualize Ansatz-circuit\n",
    "theta=np.pi\n",
    "q = QuantumRegister(2)\n",
    "c = ClassicalRegister(2)\n",
    "circuit = QuantumCircuit(q,c)\n",
    "circuit.h(q[0])\n",
    "circuit.id(q[1])\n",
    "circuit.cx(q[0],q[1])\n",
    "circuit.rx(theta,q[0])\n",
    "circuit.id(q[1])\n",
    "circuit.barrier()\n",
    "circuit.measure([0,1], [0,1])\n",
    "circuit.draw(output='mpl')"
   ]
  },
  {
   "cell_type": "markdown",
   "metadata": {},
   "source": [
    "#### Circuit for XX measurement with initial parameters"
   ]
  },
  {
   "cell_type": "code",
   "execution_count": 11,
   "metadata": {},
   "outputs": [
    {
     "data": {
      "image/png": "[encoded data removed]",
      "text/plain": [
       "<Figure size 575.303x204.68 with 1 Axes>"
      ]
     },
     "execution_count": 11,
     "metadata": {},
     "output_type": "execute_result"
    }
   ],
   "source": [
    "# Visualize Ansatz-circuit\n",
    "theta=np.pi\n",
    "q = QuantumRegister(2)\n",
    "c = ClassicalRegister(2)\n",
    "circuit = QuantumCircuit(q,c)\n",
    "circuit.h(q[0])\n",
    "circuit.id(q[1])\n",
    "circuit.cx(q[0],q[1])\n",
    "circuit.rx(theta,q[0])\n",
    "circuit.id(q[1])\n",
    "circuit.barrier()\n",
    "circuit.h(q[0])\n",
    "circuit.h(q[1])\n",
    "circuit.measure([0,1], [0,1])\n",
    "circuit.draw(output='mpl')"
   ]
  },
  {
   "cell_type": "markdown",
   "metadata": {},
   "source": [
    "#### Circuit for YY measurement with initial parameters"
   ]
  },
  {
   "cell_type": "code",
   "execution_count": 12,
   "metadata": {},
   "outputs": [
    {
     "data": {
      "image/png": "[encoded data removed]",
      "text/plain": [
       "<Figure size 635.503x204.68 with 1 Axes>"
      ]
     },
     "execution_count": 12,
     "metadata": {},
     "output_type": "execute_result"
    }
   ],
   "source": [
    "# Visualize Ansatz-circuit\n",
    "theta=np.pi\n",
    "q = QuantumRegister(2)\n",
    "c = ClassicalRegister(2)\n",
    "circuit = QuantumCircuit(q,c)\n",
    "circuit.h(q[0])\n",
    "circuit.id(q[1])\n",
    "circuit.cx(q[0],q[1])\n",
    "circuit.rx(theta,q[0])\n",
    "circuit.id(q[1])\n",
    "circuit.barrier()\n",
    "circuit.sdg(q[0])\n",
    "circuit.h(q[0])\n",
    "circuit.sdg(q[1])\n",
    "circuit.h(q[1])\n",
    "circuit.measure([0,1], [0,1])\n",
    "circuit.draw(output='mpl')"
   ]
  },
  {
   "cell_type": "code",
   "execution_count": 13,
   "metadata": {},
   "outputs": [
    {
     "data": {
      "image/png": "[encoded data removed]",
      "text/plain": [
       "<Figure size 432x288 with 1 Axes>"
      ]
     },
     "metadata": {
      "needs_background": "light"
     },
     "output_type": "display_data"
    },
    {
     "name": "stdout",
     "output_type": "stream",
     "text": [
      "--------------------------------------------------------------------------------\n",
      "The minimum bound on the lowest eigenvalue of M is E0=-1.0,\n",
      "\n",
      "The parameter that corresponds to this energy is theta=3.10 Rads\n",
      "--------------------------------------------------------------------------------\n"
     ]
    }
   ],
   "source": [
    "# Now we generate several thetas as a variational parameter, and find the best set of parameters\n",
    "\n",
    "import matplotlib.pyplot as plt\n",
    "\n",
    "# The number of trials to run\n",
    "N_shots = 2**10\n",
    "\n",
    "# Generate theta grid from Theta to 2*Pi\n",
    "theta = np.linspace(0.0,2*np.pi,500)\n",
    "E = np.zeros(len(theta)) \n",
    "\n",
    "# Calculate the expectation value of the Hamiltonian for different theta\n",
    "for k in range(len(theta)):\n",
    "    E[k] =  hamiltonian(theta=theta[k],N_shots=N_shots)\n",
    "    \n",
    "\n",
    "# Plot the results\n",
    "plt.title('Expectation value vs Angle',fontsize=15)\n",
    "plt.ylabel('Expectation value of H',fontsize=15)\n",
    "plt.xlabel('Theta (radians)',fontsize=15)\n",
    "plt.plot(theta,E,label='Number of shots: {}'.format(N_shots))\n",
    "plt.legend()\n",
    "plt.show()\n",
    "    \n",
    "\n",
    "# Determine the lowest bound from varying theta\n",
    "print('--'*40)\n",
    "print('The minimum bound on the lowest eigenvalue of M is E0={},\\n'.format(min(E)))\n",
    "print('The parameter that corresponds to this energy is theta={:0.2f} Rads'.format(theta[np.argmin(E)]))\n",
    "print('--'*40)"
   ]
  },
  {
   "cell_type": "code",
   "execution_count": 14,
   "metadata": {},
   "outputs": [
    {
     "data": {
      "text/html": [
       "<h3>Version Information</h3><table><tr><th>Qiskit Software</th><th>Version</th></tr><tr><td>Qiskit</td><td>0.21.0</td></tr><tr><td>Terra</td><td>0.15.2</td></tr><tr><td>Aer</td><td>0.6.1</td></tr><tr><td>Ignis</td><td>0.4.0</td></tr><tr><td>Aqua</td><td>0.7.3</td></tr><tr><td>IBM Q Provider</td><td>0.9.0</td></tr><tr><th>System information</th></tr><tr><td>Python</td><td>3.8.3 (default, Jul  2 2020, 17:30:36) [MSC v.1916 64 bit (AMD64)]</td></tr><tr><td>OS</td><td>Windows</td></tr><tr><td>CPUs</td><td>2</td></tr><tr><td>Memory (Gb)</td><td>5.888984680175781</td></tr><tr><td colspan='2'>Sat Sep 26 23:24:53 2020 Iran Standard Time</td></tr></table>"
      ],
      "text/plain": [
       "<IPython.core.display.HTML object>"
      ]
     },
     "metadata": {},
     "output_type": "display_data"
    }
   ],
   "source": [
    "import qiskit.tools.jupyter\n",
    "%qiskit_version_table"
   ]
  },
  {
   "cell_type": "markdown",
   "metadata": {},
   "source": [
    "## References : \n",
    "\n",
    "### For basic concepts of VQE \n",
    "\n",
    "[Michał Stęchły]           (https://www.mustythoughts.com/variational-quantum-eigensolver-explained)\n",
    "\n",
    "[Famous Article!]          (https://www.nature.com/articles/ncomms5213)\n",
    "\n",
    "[James Weaver]        (https://medium.com/qiskit/the-variational-quantum-eigensolver-43f7718c2747)\n",
    "\n",
    "### For Understanding of Decomposition of Pauli Matrices and Measurment in computational basis: \n",
    "\n",
    "[Pauli Measurements]       (https://docs.microsoft.com/en-us/quantum/concepts/pauli-measurements)\n",
    "\n",
    "[Michael Goerz]           (https://michaelgoerz.net/notes/decomposing-two-qubit-hamiltonians-into-pauli-matrices.html )\n",
    "\n",
    "\n",
    "\n",
    "###  Very useful Github link that help me a lot ! \n",
    "\n",
    "[Oscar Javier Hernandez]   (https://github.com/OscarJHernandez/qc_mentorship_task)\n",
    "\n",
    "[Michał Stęchły]           (https://github.com/mstechly/mustythoughts_plus/blob/master/VQE_QAOA/VQE_explained_example.ipynb)\n",
    "\n",
    "\n",
    "[Davit Khachatryan] \n",
    "(https://github.com/DavitKhach/quantum-algorithms-tutorials/blob/master/variational_quantum_eigensolver.ipynb)\n",
    "\n",
    "[Alexander Soare]          (https://github.com/alexander-soare/framework-agnostic-vqe-tutorial)\n",
    "\n",
    "\n",
    "### Qiskit ! \n",
    "\n",
    "(https://qiskit.org/documentation/tutorials/circuits/3_summary_of_quantum_operations.html)\n",
    "\n",
    "https://qiskit.org/textbook/ch-applications/vqe-molecules.html"
   ]
  }
 ],
 "metadata": {
  "kernelspec": {
   "display_name": "Python 3",
   "language": "python",
   "name": "python3"
  },
  "language_info": {
   "codemirror_mode": {
    "name": "ipython",
    "version": 3
   },
   "file_extension": ".py",
   "mimetype": "text/x-python",
   "name": "python",
   "nbconvert_exporter": "python",
   "pygments_lexer": "ipython3",
   "version": "3.8.3"
  }
 },
 "nbformat": 4,
 "nbformat_minor": 4
}
